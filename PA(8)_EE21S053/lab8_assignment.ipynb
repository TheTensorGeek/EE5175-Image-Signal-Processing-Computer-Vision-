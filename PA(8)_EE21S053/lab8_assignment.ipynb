{
 "cells": [
  {
   "cell_type": "markdown",
   "metadata": {
    "id": "hFLHmMe_jLGp"
   },
   "source": [
    "# <center>DCT, WHT, SVD</center> "
   ]
  },
  {
   "cell_type": "code",
   "execution_count": 1,
   "metadata": {
    "id": "KjkN8oe9jLGi"
   },
   "outputs": [],
   "source": [
    "import numpy as np\n",
    "import scipy.linalg as LA\n",
    "from scipy.fftpack import dct\n",
    "from scipy.io import loadmat\n",
    "import matplotlib.pyplot as plt\n",
    "np.set_printoptions(precision=3)"
   ]
  },
  {
   "cell_type": "markdown",
   "metadata": {},
   "source": [
    "## $$\\color{blue}{\\text{Question1}}$$\n",
    "\n",
    "$\\color{blue}{\\text{Assume a Markov-1 process with covariance matrix R of size 8 × 8 and ρ = 0.91.\n",
    "Compute the Energy Packing Efficiency}}$ $\\color{blue}{\\text{ and De-correlation of the Walsh-Haddamard Transform and Discrete Cosine Transform for the above process. What is your }}$\n",
    "$\\color{blue}{\\text{observation about the eigenvectors of R in relation to the DCT basis? }}$\n"
   ]
  },
  {
   "cell_type": "markdown",
   "metadata": {},
   "source": [
    "### Energy Packing Efficiency \n",
    "The energy packing effiency of a covariance matrix $R$ depends on the number of coeffieints we are using and what fraction of the energy can we pack in that. If we are using $m$ coefficients and there are total $N$ coefficients, the energy packing efficiency at $m$, $EPE_{m}$, is given by\n",
    "\n",
    "$$\n",
    "EPE_{m} = \\frac{\\Sigma_{i=1}^{m}R_{i, i}}{\\Sigma_{i=1}^{N}R_{i, i}}\n",
    "$$\n",
    "\n",
    "Clearly the energy packing efficiency will be high even with low values of $m$ if the first few coefficients contain a bulk of the energy. It is to be noted than an inherent assumption is the coefficients are in the decreasing order, i.e., \n",
    "\n",
    "$$\n",
    "R(1, 1) \\geq R(2, 2) \\dots \\geq R(N, N)\n",
    "$$\n",
    "\n",
    "### Decorrelation Efficiency\n",
    "The decorrelation efficiency measures how well the transformed data $R'$ is decorrelated compared to the original data $R$. It is defined as\n",
    "\n",
    "$$\n",
    "\\eta = 1 - \\frac{\\alpha}{\\beta}\n",
    "$$\n",
    "\n",
    "$$\n",
    "\\alpha = \\Sigma_{i, j = 1, i \\neq j}^{N}|R'_{i, j}|\n",
    "$$\n",
    "\n",
    "$$\n",
    "\\beta = \\Sigma_{i, j = 1, i \\neq j}^{N}|R_{i, j}|\n",
    "$$\n",
    "\n",
    "Clearly, for a given $R$, $\\eta$ will be high when the off-diagonal elements in $R'$ are close to zero."
   ]
  },
  {
   "cell_type": "code",
   "execution_count": 2,
   "metadata": {
    "id": "JsKOyUoejLGq"
   },
   "outputs": [],
   "source": [
    "def epe(R):\n",
    "    \"\"\"\n",
    "    Computes the energy packing efficiency of a transformed matrix\n",
    "    \n",
    "    Args:\n",
    "        R (np.array): transformed matrix\n",
    "    \n",
    "    \"\"\"\n",
    "    # <---\n",
    "    diag_vals = np.abs(np.diag(R))\n",
    "    total_energy = np.sum(diag_vals)\n",
    "    energy_packed = np.cumsum(diag_vals)\n",
    "    return energy_packed/total_energy\n",
    "    # --->\n",
    "    \n",
    "def decor_eff(r, R):\n",
    "    \"\"\"\n",
    "    Computes de-correlation efficiency of a transformed matrix\n",
    "    \n",
    "    Args:\n",
    "        r (np.array): original matrix\n",
    "        r_ (np.array): transformed matrix\n",
    "    \n",
    "    \"\"\"\n",
    "    # <---\n",
    "    n = np.shape(r)[0]\n",
    "    non_diagonal_vals = 1-np.eye(n)\n",
    "    r_ = np.abs(non_diagonal_vals*r)\n",
    "    R_ = np.abs(non_diagonal_vals*R)\n",
    "    alpha = np.sum(R_)\n",
    "    beta = np.sum(r_)\n",
    "    eta = 1-(alpha/beta)\n",
    "    return eta\n",
    "    # --->"
   ]
  },
  {
   "cell_type": "markdown",
   "metadata": {},
   "source": [
    "### Co-variance Matrix\n",
    "This function generates the covariance for a Markov-1 process with a given parameter $\\rho$. The covariance matrix $R$ is given by\n",
    "\n",
    "$$\n",
    "R_{i,j} = \\rho^{|i-j|}\n",
    "$$\n",
    "\n",
    "### Walsh Haddamard Transform\n",
    "This function generates the Walsh Haddamard matrices $H_{n}$, are of the form $N \\times N$ where $N = 2^{n}, n \\in \\{1, 2, ... \\}$. All of these matrices can be generated from a core matrix $H_{1}$.\n",
    "\n",
    "$$H_{1} = \\frac{1}{\\sqrt{2}}\\begin{bmatrix} 1 & 1 \\\\ 1 & -1 \\end{bmatrix}$$\n",
    "\n",
    "The higher order matrices can be generated from $H_{1}$ recursively as \n",
    "\n",
    "$$\n",
    "H_{n} = H_{n-1}\\otimes H_{1} = H_{1} \\otimes H_{n-1}, \\quad n \\geq 2\n",
    "$$\n",
    "\n",
    "###   2D Walsh Haddamard Transform\n",
    "This Function performs 2D WHT using 1D WHT matrices. Given an image $U$ of the shape $m \\times n$, its 2D WHT $V$ can be calculated as \n",
    "\n",
    "$$\n",
    "V = H_{m}UH_{n}\n",
    "$$\n",
    "\n",
    "where $H_{i}$ is the 1D unitary H matrix of size $i \\times i$. It must be noted that $(m, n)$ must be powers of $2$ for the transform to be applied.\n",
    "\n",
    "### Discrete Cosine Transform\n",
    "This function generates the matrix to perform unitary 1D type 2 DCT on an array of length $N$. The matrix $C$ has the form\n",
    "\n",
    "$$\n",
    "    C(k, n)= \n",
    "\\begin{cases} \\frac{1}{\\sqrt{N}},        \\text{if   } k= 0,  0 \\leq n \\leq N-1\\\\\n",
    "    \\sqrt{\\frac{2}{N}}cos\\left[\\frac{\\pi(2n+1)k}{2N}\\right], \\text{if } \\quad 1 \\leq k \\leq N-1, \\quad 0 \\leq n \\leq N-1\n",
    "\\end{cases}\n",
    "$$\n",
    "\n",
    "###  2D Discrete Cosine Transform\n",
    "This function performs 2D DCT using 1D DCT matrices. Given an image $U$ of the shape $m \\times n$, its 2D DCT $V$ can be calculated as \n",
    "\n",
    "$$\n",
    "V = C_{m}UC_{n}\n",
    "$$\n",
    "\n",
    "where $C_{i}$ is the 1D unitary DCT matrix of size $i \\times i$\n",
    "\n"
   ]
  },
  {
   "cell_type": "code",
   "execution_count": 3,
   "metadata": {
    "id": "iHqUPFTYjLGv"
   },
   "outputs": [
    {
     "name": "stdout",
     "output_type": "stream",
     "text": [
      "Energy Packing Efficiency of Walsh-Haddamard Transform:\n",
      "[0.793 0.803 0.831 0.843 0.942 0.954 0.988 1.   ]\n",
      "\n",
      "Decorrelation Efficiency of Walsh-Haddamard Transform:\n",
      "0.9485667904674057\n",
      "\n",
      "Energy Packing Efficiency of DCT:\n",
      "[0.793 0.909 0.948 0.967 0.979 0.987 0.994 1.   ]\n",
      "\n",
      "Decorrelation Efficiency of DCT:\n",
      "0.9804711989227338\n",
      "\n"
     ]
    },
    {
     "data": {
      "image/png": "[encoded data removed]",
      "text/plain": [
       "<Figure size 576x432 with 1 Axes>"
      ]
     },
     "metadata": {
      "needs_background": "light"
     },
     "output_type": "display_data"
    },
    {
     "name": "stdout",
     "output_type": "stream",
     "text": [
      "\n"
     ]
    }
   ],
   "source": [
    "# Construct the 8 X 8 covariance matrix `r` of a Markov-1 process.\n",
    "# <---\n",
    "n = 8\n",
    "rho = 0.91\n",
    "r = rho**np.abs(np.meshgrid(np.arange(n),np.arange(n))[0]- np.meshgrid(np.arange(n),np.arange(n))[1])\n",
    "    \n",
    "# --->\n",
    "\n",
    "# Construct the Walsh-Haddamard Transform matrix.\n",
    "# <---\n",
    "def Haddamard_matrix(n):\n",
    "    H1 = np.array(([1, 1], [1, -1]))/np.sqrt(2)\n",
    "    H = H1.copy()\n",
    "    for i in range(1, n):\n",
    "        H = np.kron(H, H1)\n",
    "    return H    \n",
    "\n",
    "# --->    \n",
    "\n",
    "# Construct the DCT Transform matrix.\n",
    "# <---\n",
    "def DCT_matrix(N):\n",
    "    n, k = np.meshgrid(np.arange(N), np.arange(N))\n",
    "    C = np.sqrt(2/N)*(np.cos(np.pi*(2*n+1)*k/(2*N)))\n",
    "    C[k == 0] = np.sqrt(1/N)\n",
    "    return C\n",
    "# --->\n",
    "\n",
    "# Transform `R` using WHT and DCT and name the transforms\n",
    "# `wht_R` and `dct_R` respectively.\n",
    "# <---\n",
    "\n",
    "##  WHT transform\n",
    "x, y = np.shape(r)\n",
    "n_x = int(np.ceil(np.log2(x)))\n",
    "n_y = int(np.ceil(np.log2(y)))\n",
    "H_x = Haddamard_matrix(n_x)\n",
    "H_y = Haddamard_matrix(n_y)\n",
    "wht_R = H_x@r@(H_y.T)\n",
    "\n",
    "## DCT transform\n",
    "m, n = np.shape(r)\n",
    "A = DCT_matrix(m)\n",
    "B = DCT_matrix(n)\n",
    "dct_R = A@r@(B.T)\n",
    "\n",
    "# --->\n",
    "\n",
    "print('Energy Packing Efficiency of Walsh-Haddamard Transform:')\n",
    "print(epe(wht_R))\n",
    "print()\n",
    "\n",
    "print('Decorrelation Efficiency of Walsh-Haddamard Transform:')\n",
    "print(decor_eff(r, wht_R))\n",
    "print()\n",
    "\n",
    "print('Energy Packing Efficiency of DCT:')\n",
    "print(epe(dct_R))\n",
    "print()\n",
    "\n",
    "print('Decorrelation Efficiency of DCT:')\n",
    "print(decor_eff(r, dct_R))\n",
    "print()\n",
    "\n",
    "\n",
    "## Visualise\n",
    "plt.figure(figsize=(8, 6))\n",
    "plt.plot(np.arange(n)+1, epe(dct_R) , 'y')\n",
    "plt.plot(np.arange(n)+1, epe(wht_R), 'black')\n",
    "plt.xlabel(\"Number of Coefficients (m)\")\n",
    "plt.ylabel(\"EPE\")\n",
    "plt.title(\"Energy Packing Efficiency\")\n",
    "plt.legend([\"DCT\", \"WHT\"])\n",
    "plt.grid(True)\n",
    "plt.show()\n",
    "print()"
   ]
  },
  {
   "cell_type": "markdown",
   "metadata": {},
   "source": [
    "# $$\\color{blue}{\\text{Question2}}$$\n",
    "$\\color{blue}{\\text{Find $β^2R^{-1}$, where $β^2=\\frac {1-ρ^2}{1+\\rho^2}$ Does $β^2R^{-1}$ have a tridiagonal structure?. Is it close to the tridiagonal matrix Q given by}}$\n",
    "$\\color{blue}{{\n",
    "Q = \\begin{bmatrix} 1-\\alpha & -\\alpha & 0 & 0 & 0 & 0& 0 & 0\\\\ -\\alpha & 1 & -\\alpha & 0 & 0 & 0& 0 & 0\\\\ 0 & -\\alpha & 1 & -\\alpha & 0 & 0&0 & 0\\\\ 0 & 0 & -\\alpha & 1& -\\alpha& 0 & 0& 0 \\\\0 & 0 & 0& -\\alpha & 1&-\\alpha & 0 & 0\\\\0 & 0& 0 & 0 &-\\alpha &1 & -α &0 \\\\ 0& 0 & 0& 0 & 0& -\\alpha & 1&-\\alpha \\\\0& 0 & 0& 0 & 0 & 0 & -\\alpha & 1-α\\end{bmatrix}}}$\n",
    "\n",
    "$\\color{blue}{\\text{where $α= \\frac {ρ}{1+\\rho^2}$. Try diagonalising $β^2R^{-1}$ and $Q$ using the DCT matrix. What is your observation?}}$"
   ]
  },
  {
   "cell_type": "markdown",
   "metadata": {},
   "source": [
    "### Tridiagonal Matrix\n",
    "Generate a matrix with a tridiagonal structure for a given value of $\\alpha$. For the purpose of illustration, a $4 \\times 4$ tridiagonal matrix, $Q_{\\alpha}$, is given by\n",
    "\n",
    "$$Q_{\\alpha} = \\begin{bmatrix} 1-\\alpha & -\\alpha & 0 & 0 \\\\ -\\alpha & 1 & -\\alpha & 0 \\\\ 0 & -\\alpha & 1 & -\\alpha \\\\ 0 & 0 & -\\alpha & 1-\\alpha \\end{bmatrix}$$\n",
    "\n",
    "### Evaluating $β^2 R^{-1} $\n",
    "If $R$ is the covariance matrix of a Markov-1 process with parameter $\\rho$, its inverse, $R^{-1}$ satisfies\n",
    "\n",
    "$$\n",
    "\\beta^{2}R^{-1} \\approx Q_{\\alpha}\n",
    "$$\n",
    "\n",
    "where,\n",
    "$Q_{\\alpha}$ is the tridiagonal matrix with parameter $\\alpha$,\n",
    "\n",
    "$$\n",
    "\\beta^{2} = \\frac{1-\\rho^{2}}{1+\\rho^{2}}\n",
    "$$\n",
    "\n",
    "and, \n",
    "\n",
    "$$\n",
    "\\alpha = \\frac{\\rho}{1+\\rho^{2}}\n",
    "$$"
   ]
  },
  {
   "cell_type": "code",
   "execution_count": 4,
   "metadata": {
    "id": "_Rzs2WqjjLGz"
   },
   "outputs": [
    {
     "name": "stdout",
     "output_type": "stream",
     "text": [
      "[[ 0.045  0.    -0.     0.    -0.    -0.     0.    -0.   ]\n",
      " [ 0.    -0.     0.    -0.     0.     0.    -0.     0.   ]\n",
      " [-0.     0.    -0.     0.     0.    -0.     0.    -0.   ]\n",
      " [-0.    -0.     0.     0.    -0.     0.    -0.     0.   ]\n",
      " [-0.     0.     0.    -0.     0.    -0.     0.     0.   ]\n",
      " [-0.     0.    -0.     0.     0.    -0.     0.    -0.   ]\n",
      " [ 0.    -0.     0.     0.    -0.     0.    -0.     0.   ]\n",
      " [-0.     0.    -0.     0.     0.    -0.     0.     0.045]]\n",
      "\n",
      "[[ 0.016 -0.     0.015  0.     0.011 -0.     0.006  0.   ]\n",
      " [-0.     0.102 -0.     0.018  0.     0.012  0.     0.004]\n",
      " [ 0.015 -0.     0.315 -0.     0.015  0.     0.008  0.   ]\n",
      " [-0.     0.018  0.     0.634  0.     0.01   0.     0.004]\n",
      " [ 0.011  0.     0.015  0.     1.011  0.     0.006  0.   ]\n",
      " [ 0.     0.012  0.     0.01   0.     1.388  0.     0.002]\n",
      " [ 0.006  0.     0.008  0.     0.006  0.     1.707  0.   ]\n",
      " [ 0.     0.004  0.     0.004  0.     0.002 -0.     1.921]]\n",
      "\n",
      "[[ 0.004  0.    -0.     0.     0.    -0.    -0.     0.   ]\n",
      " [ 0.     0.08  -0.     0.    -0.    -0.     0.    -0.   ]\n",
      " [-0.    -0.     0.296  0.    -0.     0.    -0.     0.   ]\n",
      " [ 0.     0.     0.     0.619  0.    -0.     0.    -0.   ]\n",
      " [ 0.    -0.    -0.     0.     1.     0.    -0.    -0.   ]\n",
      " [-0.    -0.     0.    -0.     0.     1.381  0.     0.   ]\n",
      " [-0.     0.    -0.     0.    -0.     0.     1.704 -0.   ]\n",
      " [ 0.    -0.     0.    -0.    -0.     0.    -0.     1.92 ]]\n"
     ]
    }
   ],
   "source": [
    "# Construct `P` = beta^2 R^-1\n",
    "# <---\n",
    "P = (1-rho**2)/(1+rho**2)*(np.linalg.inv(r))\n",
    "# --->\n",
    "\n",
    "# Construct `Q`\n",
    "# <---\n",
    "alpha = rho/(1+rho**2)\n",
    "\n",
    "Q = np.zeros((n, n))\n",
    "x = np.arange(n)\n",
    "y = np.arange(n)\n",
    "X, Y = np.meshgrid(x, y)\n",
    "diff = np.abs(X-Y)\n",
    "Q[diff == 1] = -alpha\n",
    "Q[diff == 0] = 1\n",
    "Q[0, 0] = 1-alpha\n",
    "Q[-1, -1] = 1-alpha\n",
    "# --->\n",
    "\n",
    "# Check if `P` is tridiagonal like `Q`.\n",
    "# <---\n",
    "np.set_printoptions(precision=3,suppress=True)\n",
    "print(P-Q)\n",
    "print()\n",
    "# --->\n",
    "\n",
    "# Compute `dP`, `dQ` which are matrices obtained by diagonalizing P and Q using the DCT matrix, respectively.\n",
    "# <---\n",
    "m, n = np.shape(P)\n",
    "A = DCT_matrix(m)\n",
    "B = DCT_matrix(n)\n",
    "dP= A@P@(B.T)\n",
    "\n",
    "m, n = np.shape(Q)\n",
    "A = DCT_matrix(m)\n",
    "B = DCT_matrix(n)\n",
    "dQ= A@Q@(B.T)\n",
    "# --->\n",
    "print(dP)\n",
    "print()\n",
    "print(dQ)"
   ]
  },
  {
   "cell_type": "markdown",
   "metadata": {},
   "source": [
    "The above result shows that DCT diagonalises $Q$ (i.e. tridiagonal matrix)perfectly but struggles slightly to diagonalise $\\beta ^2R^{-1}$."
   ]
  },
  {
   "cell_type": "markdown",
   "metadata": {},
   "source": [
    "# $$\\color{blue}{\\text{Question3}}$$\n",
    "$\\color{blue}{\\text{Compute SVD for the given 8 × 8 image}}$ **g**\n",
    "$\\color{blue}{\\text{using the following steps:}}$\n",
    "\n",
    "  $\\color{blue}{\\text{(a) Perform eigen-value decomposition of $g^Tg$ and $gg^T$.}}$\n",
    "\n",
    "  $\\color{blue}{\\text{(b) Find the singular value matrix Σ.}}$\n",
    "\n",
    "  $\\color{blue}{\\text{(c) Reconstruct the image using Σ and the eigen-vector matrices.}}$\n"
   ]
  },
  {
   "cell_type": "markdown",
   "metadata": {},
   "source": [
    "### Singular Value Decomposition (SVD)\n",
    "Given a matrix $g$, its $SVD$ is given as\n",
    "\n",
    "$$\n",
    "g = A\\Sigma B^{T}\n",
    "$$\n",
    "\n",
    "$A$ is the matrix with the eigenvalues of $g g^{T}$ as its columns, $B$ is the matrix with the eigenvalues of $g^{T}g$, and $\\Sigma$ is the matrix of singular values. Given a matrix $g$ we perform SVD on it using the following steps \n",
    "- Perform eigen-decomposition of $gg^{T}$ and $g^{T}g$\n",
    "- Find the singular value matrix $\\Sigma$ using the eigenvalues of $gg^{T}$ and $g^{T}g$\n",
    "- Return $A, \\Sigma, B$ as defined earlier\n",
    "\n",
    "### Sorted Eigenvectors\n",
    "$\\texttt{NumPy}$'s eigenvalue function does not give the eigenvectors sorted according to decreasing eigenvalue magnitudes. Sort it as it is needed for the calculation of $SVD$."
   ]
  },
  {
   "cell_type": "code",
   "execution_count": 5,
   "metadata": {
    "colab": {
     "base_uri": "https://localhost:8080/",
     "height": 136
    },
    "executionInfo": {
     "elapsed": 1149,
     "status": "error",
     "timestamp": 1604297144423,
     "user": {
      "displayName": "praveen kandula",
      "photoUrl": "",
      "userId": "11546038343826332218"
     },
     "user_tz": -330
    },
    "id": "L5QHR5OPjLG3",
    "outputId": "e96cdd69-b899-43d1-ba41-9eea8eb1eee7"
   },
   "outputs": [
    {
     "name": "stdout",
     "output_type": "stream",
     "text": [
      "g-g_hat Matrix:\n",
      "[[-0. -0.  0. -0. -0.  0.  0.  0.]\n",
      " [-0.  0. -0. -0. -0.  0.  0.  0.]\n",
      " [ 0. -0. -0.  0.  0.  0. -0.  0.]\n",
      " [ 0. -0. -0.  0. -0.  0.  0.  0.]\n",
      " [ 0. -0.  0.  0. -0. -0. -0. -0.]\n",
      " [-0.  0. -0. -0. -0.  0. -0.  0.]\n",
      " [-0.  0. -0. -0. -0. -0.  0.  0.]\n",
      " [-0.  0.  0.  0.  0. -0. -0. -0.]]\n",
      "\n",
      "g Matrix:\n",
      "[[207. 244. 107. 173.  70. 111. 180. 244.]\n",
      " [230. 246. 233. 193.  11.  97. 192.  86.]\n",
      " [  3.  40. 202. 189.  24. 195.  70. 149.]\n",
      " [232. 247. 244. 100. 209. 202. 173.  57.]\n",
      " [161. 244. 167. 167. 177.  47. 167. 191.]\n",
      " [ 24. 123.   9.  43.  80. 124.  41.  65.]\n",
      " [ 71. 204. 216. 180. 242. 113.  30. 129.]\n",
      " [138.  34. 234.   9.   9. 160. 120. 120.]]\n",
      "\n",
      "g_hat Matrix:\n",
      "[[207. 244. 107. 173.  70. 111. 180. 244.]\n",
      " [230. 246. 233. 193.  11.  97. 192.  86.]\n",
      " [  3.  40. 202. 189.  24. 195.  70. 149.]\n",
      " [232. 247. 244. 100. 209. 202. 173.  57.]\n",
      " [161. 244. 167. 167. 177.  47. 167. 191.]\n",
      " [ 24. 123.   9.  43.  80. 124.  41.  65.]\n",
      " [ 71. 204. 216. 180. 242. 113.  30. 129.]\n",
      " [138.  34. 234.   9.   9. 160. 120. 120.]]\n"
     ]
    }
   ],
   "source": [
    "#g = loadmat('imageFile.mat')['g']\n",
    "g = np.array([\n",
    "[207, 244, 107, 173, 70, 111, 180, 244],\n",
    "[230, 246, 233, 193, 11, 97, 192, 86],\n",
    "[3, 40, 202, 189, 24, 195, 70, 149],\n",
    "[232, 247, 244, 100, 209, 202, 173, 57],\n",
    "[161, 244, 167, 167, 177, 47, 167, 191],\n",
    "[24, 123, 9, 43, 80, 124, 41, 65],\n",
    "[71, 204, 216, 180, 242, 113, 30, 129],\n",
    "[138, 34, 234, 9, 9, 160, 120, 120],\n",
    "]).astype(np.float64)\n",
    "\n",
    "\n",
    "def sorted_eigenvals(Matrix):\n",
    "    eigenValues, eigenVectors = np.linalg.eig(Matrix)\n",
    "    idx = eigenValues.argsort()[::-1]\n",
    "    idx = eigenValues.argsort()[::-1]\n",
    "    eigenValues = eigenValues[idx]\n",
    "    eigenVectors = eigenVectors[:, idx]\n",
    "    return eigenValues, eigenVectors\n",
    "\n",
    "m, n = np.shape(g)\n",
    "limiting_dim = min(m, n)\n",
    "S = np.zeros((m, n))\n",
    "S1 = g@(g.T)\n",
    "S2 = (g.T)@g\n",
    "e1, v1 = sorted_eigenvals(S1)\n",
    "e2, v2 = sorted_eigenvals(S2)\n",
    "for i in range(limiting_dim):\n",
    "    S[i, i] = (np.sqrt(e1[i])+np.sqrt(e2[i]))/2\n",
    "    v = v2[:, i]\n",
    "    # This step is to ensure we have the correct pairing of the eigenvectors in the\n",
    "    # A and B matrices. This is necessary as v and -v are eigenvectors of the same matrix\n",
    "    # with the same eigenvalue\n",
    "    if np.sum((g@v-S[i, i]*v1[:, i])**2) > np.sum((g@v+S[i, i]*v1[:, i])**2):\n",
    "        v2[:, i] = -v\n",
    "\n",
    "\n",
    "# Reconstruct the image `g` using its singular value decomposition.\n",
    "# <---\n",
    "g_hat = v1@S@(v2.T)\n",
    "# --->\n",
    "print('g-g_hat Matrix:')\n",
    "print (g-g_hat)\n",
    "print()\n",
    "print('g Matrix:')\n",
    "print(g)\n",
    "print()\n",
    "print('g_hat Matrix:')\n",
    "print(g_hat)"
   ]
  },
  {
   "cell_type": "markdown",
   "metadata": {},
   "source": [
    "The above result shows that reconstructed image is exact same as original image. "
   ]
  },
  {
   "cell_type": "markdown",
   "metadata": {},
   "source": [
    "# $$\\color{blue}{\\text{Question4}}$$\n",
    "$\\color{blue}{\\text{Remove one singular value at a time from Σ and reconstruct the image $\\widehat{(g_k)}$.}}$\n",
    "$\\color{blue}{\\text{Compute $||g-\\widehat{(g_k)}||^2$ and compare it with the sum of the squares of the first k singular values.}}$"
   ]
  },
  {
   "cell_type": "markdown",
   "metadata": {},
   "source": [
    "### Reconstruction Error\n",
    "Remove one singular value at a time from $\\Sigma$ and reconstruct the image $\\hat{g}_{k}$ where the $k$ highest singular values are removed. Compute the square of  Frobenius norm of the error between $\\hat{g}_{k}$ and the original image $g$, i.e., $||g-\\hat{g}_{k}||_{F}^{2}$\n",
    "\n",
    "###  Expected Reconstruction Error\n",
    "On removing the $k$ highest singular values and reconstructing the image, the squared of the Frobenius norm of the error between the original image $g$ and the reconstructed image $\\hat{g}_{k}$ is given by\n",
    "\n",
    "$$\n",
    "||g-\\hat{g}_{k}||_{F}^{2} = \\Sigma_{i=1}^{k}\\sigma_{i}^{2}\n",
    "$$\n",
    "\n",
    "i.e., the sum of the squares of the first $k$ singular values"
   ]
  },
  {
   "cell_type": "code",
   "execution_count": 6,
   "metadata": {
    "id": "q6cyx2cnjLG-"
   },
   "outputs": [
    {
     "name": "stdout",
     "output_type": "stream",
     "text": [
      "[ 0.  0. -0. -0.  0.  0.  0.  0.]\n"
     ]
    }
   ],
   "source": [
    "def reconstruction_errors_SVD(g, A, Sigma, B):\n",
    "    m, n = np.shape(g)\n",
    "    limiting_dim = min(m, n)\n",
    "    reconstruction_errors = np.zeros(limiting_dim)\n",
    "    # start with a copy of the original image\n",
    "    reconstructed_matrix = g.copy()\n",
    "    for i in range(limiting_dim):\n",
    "        # remove the contribution of the ith singular value and its vectors\n",
    "        reconstructed_matrix -= Sigma[i, i]*np.outer(A[:, i], B[:, i])\n",
    "        # get the frobenius norm\n",
    "        reconstruction_errors[i] = np.sum((reconstructed_matrix - g)**2)\n",
    "    return reconstruction_errors\n",
    "def theoretical_reconstruction_errors(Sigma):\n",
    "    # get the non zero entries of the Sigma matrix\n",
    "    sigma = Sigma[Sigma > 0]\n",
    "    return np.cumsum(sigma**2)\n",
    "# get the theoretical and experimental reconstruction errors\n",
    "reconstruction_errors_experimental = reconstruction_errors_SVD(g, v1, S, v2)\n",
    "reconstruction_errors_theoretical = theoretical_reconstruction_errors(S)\n",
    "print(reconstruction_errors_experimental-reconstruction_errors_theoretical)"
   ]
  },
  {
   "cell_type": "markdown",
   "metadata": {},
   "source": [
    "The reconstruction errors obtained are exact similar to the ones we get theoretically."
   ]
  },
  {
   "cell_type": "code",
   "execution_count": 7,
   "metadata": {},
   "outputs": [
    {
     "data": {
      "image/png": "[encoded data removed]",
      "text/plain": [
       "<Figure size 576x432 with 1 Axes>"
      ]
     },
     "metadata": {
      "needs_background": "light"
     },
     "output_type": "display_data"
    }
   ],
   "source": [
    "plt.figure(figsize=(8, 6))\n",
    "plt.plot(np.arange(n)+1, reconstruction_errors_theoretical, 'yellow', linewidth=6)\n",
    "plt.plot(np.arange(n)+1, reconstruction_errors_experimental,\n",
    "         '-o', linewidth=2, color=\"black\")\n",
    "plt.xlabel(\"singular values removed (k)\")\n",
    "plt.ylabel(r'||g-$\\hat{g}_{k}||^{2}$')\n",
    "plt.legend([\"Expected\", \"Calculated\"])\n",
    "plt.title(\"Reconstruction Errors\")\n",
    "plt.grid(True)\n",
    "plt.show()"
   ]
  },
  {
   "cell_type": "markdown",
   "metadata": {},
   "source": [
    "### Observation / Summary:"
   ]
  },
  {
   "cell_type": "markdown",
   "metadata": {},
   "source": [
    "We can summarize with the following observations.\n",
    "- DCT is better than WHT at both energy packing and decorrelation when we have covariance matrices of Markov-1 processes ($R$)\n",
    "- Eigenvectors of $R$ are close to the DCT basis vectors but not exactly the same\n",
    "- $\\beta^{2}R^{-1}$ has roughly a tridiagonal structure\n",
    "- DCT matrix exactly diagonalizes $Q_{\\alpha}$, a tridiagonal matrix with parameter $\\alpha$ and mostly diagonalizes $\\beta^{2}R^{-1}$ but not completely\n",
    "- Computing the $SVD$ for an image and reconstructing it using all the singular values gives an exact reconstruction\n",
    "- The theoretical and calculated values for reconstruction errors on removing $k$ singular values is the sum of the squares of those $k$ singular values"
   ]
  }
 ],
 "metadata": {
  "colab": {
   "name": "Lab_08_Q.ipynb",
   "provenance": []
  },
  "kernelspec": {
   "display_name": "Python 3 (ipykernel)",
   "language": "python",
   "name": "python3"
  },
  "language_info": {
   "codemirror_mode": {
    "name": "ipython",
    "version": 3
   },
   "file_extension": ".py",
   "mimetype": "text/x-python",
   "name": "python",
   "nbconvert_exporter": "python",
   "pygments_lexer": "ipython3",
   "version": "3.9.7"
  }
 },
 "nbformat": 4,
 "nbformat_minor": 1
}
